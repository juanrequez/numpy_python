{
 "cells": [
  {
   "attachments": {},
   "cell_type": "markdown",
   "id": "25011bc8",
   "metadata": {},
   "source": [
    "# Uso del módulo Numpy\n",
    "### creado por Juan Pablo Requez - juanrequez@gmail.com"
   ]
  },
  {
   "cell_type": "markdown",
   "id": "26664096",
   "metadata": {},
   "source": [
    "Primero debe importarse el *módulo numpy*.\n",
    "\n",
    "Es importante que el módulo numpy debe estar instalado"
   ]
  },
  {
   "cell_type": "code",
   "execution_count": 1,
   "id": "07a9c2ec",
   "metadata": {},
   "outputs": [],
   "source": [
    "import numpy as np"
   ]
  },
  {
   "cell_type": "markdown",
   "id": "70a2de30",
   "metadata": {},
   "source": [
    "### crear dos vectores"
   ]
  },
  {
   "cell_type": "code",
   "execution_count": 2,
   "id": "deec890b",
   "metadata": {},
   "outputs": [],
   "source": [
    "#crear un vector fila (esto no es verdaderamente un vector fila, sino un vector unidimensional,\n",
    "#que en numpy son tratados diferente)\n",
    "vector1=np.array([1,2,3,4])"
   ]
  },
  {
   "cell_type": "code",
   "execution_count": 3,
   "id": "d3523fb5",
   "metadata": {},
   "outputs": [],
   "source": [
    "#crear un vector columna\n",
    "vector2=np.array([[1],[2],[3],[4]])"
   ]
  },
  {
   "cell_type": "code",
   "execution_count": 4,
   "id": "93cd5117",
   "metadata": {},
   "outputs": [
    {
     "data": {
      "text/plain": [
       "array([1, 2, 3, 4])"
      ]
     },
     "execution_count": 4,
     "metadata": {},
     "output_type": "execute_result"
    }
   ],
   "source": [
    "vector1"
   ]
  },
  {
   "cell_type": "code",
   "execution_count": 5,
   "id": "05fa7ed0",
   "metadata": {},
   "outputs": [
    {
     "data": {
      "text/plain": [
       "array([[1],\n",
       "       [2],\n",
       "       [3],\n",
       "       [4]])"
      ]
     },
     "execution_count": 5,
     "metadata": {},
     "output_type": "execute_result"
    }
   ],
   "source": [
    "vector2"
   ]
  },
  {
   "cell_type": "code",
   "execution_count": 6,
   "id": "172327c2",
   "metadata": {},
   "outputs": [],
   "source": [
    "#Crear una matriz cuadrada de 3x3\n",
    "matriz1=np.array([[1,2,3],[-1,0,-1],[0,3,2]])"
   ]
  },
  {
   "cell_type": "code",
   "execution_count": 7,
   "id": "eeae06fc",
   "metadata": {},
   "outputs": [],
   "source": [
    "#crear una matriz rectangular de 3x2\n",
    "matriz2=np.array([[3,2],[-6,-1],[2,7]])"
   ]
  },
  {
   "cell_type": "code",
   "execution_count": 8,
   "id": "ca2dc5be",
   "metadata": {},
   "outputs": [
    {
     "data": {
      "text/plain": [
       "array([[ 1,  2,  3],\n",
       "       [-1,  0, -1],\n",
       "       [ 0,  3,  2]])"
      ]
     },
     "execution_count": 8,
     "metadata": {},
     "output_type": "execute_result"
    }
   ],
   "source": [
    "matriz1"
   ]
  },
  {
   "cell_type": "code",
   "execution_count": 9,
   "id": "81911b84",
   "metadata": {},
   "outputs": [
    {
     "data": {
      "text/plain": [
       "array([[ 3,  2],\n",
       "       [-6, -1],\n",
       "       [ 2,  7]])"
      ]
     },
     "execution_count": 9,
     "metadata": {},
     "output_type": "execute_result"
    }
   ],
   "source": [
    "matriz2"
   ]
  },
  {
   "cell_type": "markdown",
   "id": "49bd67fc",
   "metadata": {},
   "source": [
    "La dimensión de cada vector y matriz es"
   ]
  },
  {
   "cell_type": "code",
   "execution_count": 10,
   "id": "956d4564",
   "metadata": {},
   "outputs": [
    {
     "data": {
      "text/plain": [
       "1"
      ]
     },
     "execution_count": 10,
     "metadata": {},
     "output_type": "execute_result"
    }
   ],
   "source": [
    "vector1.ndim"
   ]
  },
  {
   "cell_type": "code",
   "execution_count": 11,
   "id": "5bac45a0",
   "metadata": {},
   "outputs": [
    {
     "data": {
      "text/plain": [
       "2"
      ]
     },
     "execution_count": 11,
     "metadata": {},
     "output_type": "execute_result"
    }
   ],
   "source": [
    "vector2.ndim"
   ]
  },
  {
   "cell_type": "code",
   "execution_count": 12,
   "id": "f219ecfb",
   "metadata": {},
   "outputs": [
    {
     "data": {
      "text/plain": [
       "2"
      ]
     },
     "execution_count": 12,
     "metadata": {},
     "output_type": "execute_result"
    }
   ],
   "source": [
    "matriz1.ndim"
   ]
  },
  {
   "cell_type": "code",
   "execution_count": 13,
   "id": "c88f5035",
   "metadata": {},
   "outputs": [
    {
     "data": {
      "text/plain": [
       "2"
      ]
     },
     "execution_count": 13,
     "metadata": {},
     "output_type": "execute_result"
    }
   ],
   "source": [
    "matriz2.ndim"
   ]
  },
  {
   "cell_type": "markdown",
   "id": "8353a91e",
   "metadata": {},
   "source": [
    "Puede verse la forma de cada objeto, es decir, las dimensiones verdaderas"
   ]
  },
  {
   "cell_type": "code",
   "execution_count": 14,
   "id": "156b55eb",
   "metadata": {},
   "outputs": [
    {
     "data": {
      "text/plain": [
       "(4,)"
      ]
     },
     "execution_count": 14,
     "metadata": {},
     "output_type": "execute_result"
    }
   ],
   "source": [
    "vector1.shape"
   ]
  },
  {
   "cell_type": "code",
   "execution_count": 15,
   "id": "146e56c4",
   "metadata": {},
   "outputs": [
    {
     "data": {
      "text/plain": [
       "(4, 1)"
      ]
     },
     "execution_count": 15,
     "metadata": {},
     "output_type": "execute_result"
    }
   ],
   "source": [
    "vector2.shape"
   ]
  },
  {
   "cell_type": "code",
   "execution_count": 16,
   "id": "39e420fb",
   "metadata": {},
   "outputs": [
    {
     "data": {
      "text/plain": [
       "(3, 3)"
      ]
     },
     "execution_count": 16,
     "metadata": {},
     "output_type": "execute_result"
    }
   ],
   "source": [
    "matriz1.shape"
   ]
  },
  {
   "cell_type": "code",
   "execution_count": 17,
   "id": "eb3f1809",
   "metadata": {},
   "outputs": [
    {
     "data": {
      "text/plain": [
       "(3, 2)"
      ]
     },
     "execution_count": 17,
     "metadata": {},
     "output_type": "execute_result"
    }
   ],
   "source": [
    "matriz2.shape"
   ]
  },
  {
   "cell_type": "markdown",
   "id": "2165becc",
   "metadata": {},
   "source": [
    "Se puede observar el tipo los objetos creados"
   ]
  },
  {
   "cell_type": "code",
   "execution_count": 18,
   "id": "a6ae5dc4",
   "metadata": {},
   "outputs": [
    {
     "data": {
      "text/plain": [
       "dtype('int32')"
      ]
     },
     "execution_count": 18,
     "metadata": {},
     "output_type": "execute_result"
    }
   ],
   "source": [
    "vector1.dtype"
   ]
  },
  {
   "cell_type": "markdown",
   "id": "e9317880",
   "metadata": {},
   "source": [
    "## Creación intrínseca de Arrays"
   ]
  },
  {
   "cell_type": "code",
   "execution_count": 19,
   "id": "91bcc2df",
   "metadata": {},
   "outputs": [],
   "source": [
    "#Crear una matriz de ceros de 3x3\n",
    "matrizcero=np.zeros([3,3])\n",
    "#Crear una matriz de unos de 4x5\n",
    "matrizunos=np.ones([3,4])\n",
    "#Crear una matriz identidad de tamaño 5\n",
    "matrizidentidad=np.identity(5)\n",
    "#crear un vector con valores desde 0 hasta 10 con 5 divisiones\n",
    "rvector=np.linspace(0,10,5)\n"
   ]
  },
  {
   "cell_type": "code",
   "execution_count": 20,
   "id": "39161d33",
   "metadata": {},
   "outputs": [
    {
     "data": {
      "text/plain": [
       "array([[0., 0., 0.],\n",
       "       [0., 0., 0.],\n",
       "       [0., 0., 0.]])"
      ]
     },
     "execution_count": 20,
     "metadata": {},
     "output_type": "execute_result"
    }
   ],
   "source": [
    "matrizcero"
   ]
  },
  {
   "cell_type": "code",
   "execution_count": 21,
   "id": "3d423d10",
   "metadata": {},
   "outputs": [
    {
     "data": {
      "text/plain": [
       "array([[1., 1., 1., 1.],\n",
       "       [1., 1., 1., 1.],\n",
       "       [1., 1., 1., 1.]])"
      ]
     },
     "execution_count": 21,
     "metadata": {},
     "output_type": "execute_result"
    }
   ],
   "source": [
    "matrizunos"
   ]
  },
  {
   "cell_type": "code",
   "execution_count": 22,
   "id": "d285a4b1",
   "metadata": {},
   "outputs": [
    {
     "data": {
      "text/plain": [
       "array([[1., 0., 0., 0., 0.],\n",
       "       [0., 1., 0., 0., 0.],\n",
       "       [0., 0., 1., 0., 0.],\n",
       "       [0., 0., 0., 1., 0.],\n",
       "       [0., 0., 0., 0., 1.]])"
      ]
     },
     "execution_count": 22,
     "metadata": {},
     "output_type": "execute_result"
    }
   ],
   "source": [
    "matrizidentidad"
   ]
  },
  {
   "cell_type": "code",
   "execution_count": 23,
   "id": "4e3ee67d",
   "metadata": {},
   "outputs": [
    {
     "data": {
      "text/plain": [
       "array([ 0. ,  2.5,  5. ,  7.5, 10. ])"
      ]
     },
     "execution_count": 23,
     "metadata": {},
     "output_type": "execute_result"
    }
   ],
   "source": [
    "rvector"
   ]
  },
  {
   "cell_type": "markdown",
   "id": "6e7b8164",
   "metadata": {},
   "source": [
    "## Operaciones elemento a elemento"
   ]
  },
  {
   "cell_type": "code",
   "execution_count": 24,
   "id": "5b9cffdf",
   "metadata": {},
   "outputs": [
    {
     "data": {
      "text/plain": [
       "array([ 5. ,  7.5, 10. , 12.5, 15. ])"
      ]
     },
     "execution_count": 24,
     "metadata": {},
     "output_type": "execute_result"
    }
   ],
   "source": [
    "rvector+5"
   ]
  },
  {
   "cell_type": "code",
   "execution_count": 25,
   "id": "5801d2a9",
   "metadata": {},
   "outputs": [
    {
     "data": {
      "text/plain": [
       "array([ 0.        ,  0.59847214, -0.95892427,  0.93799998, -0.54402111])"
      ]
     },
     "execution_count": 25,
     "metadata": {},
     "output_type": "execute_result"
    }
   ],
   "source": [
    "np.sin(rvector)"
   ]
  },
  {
   "cell_type": "code",
   "execution_count": 26,
   "id": "5b60cac0",
   "metadata": {},
   "outputs": [
    {
     "data": {
      "text/plain": [
       "array([1.00000000e+00, 1.21824940e+01, 1.48413159e+02, 1.80804241e+03,\n",
       "       2.20264658e+04])"
      ]
     },
     "execution_count": 26,
     "metadata": {},
     "output_type": "execute_result"
    }
   ],
   "source": [
    "np.exp(rvector)"
   ]
  },
  {
   "cell_type": "markdown",
   "id": "3d9666d4",
   "metadata": {},
   "source": [
    "## Operaciones matriciales"
   ]
  },
  {
   "cell_type": "code",
   "execution_count": 27,
   "id": "07f31f5a",
   "metadata": {},
   "outputs": [
    {
     "data": {
      "text/plain": [
       "array([[ -3,  21],\n",
       "       [ -5,  -9],\n",
       "       [-14,  11]])"
      ]
     },
     "execution_count": 27,
     "metadata": {},
     "output_type": "execute_result"
    }
   ],
   "source": [
    "np.dot(matriz1,matriz2)"
   ]
  },
  {
   "cell_type": "code",
   "execution_count": 28,
   "id": "1b35326e",
   "metadata": {},
   "outputs": [
    {
     "data": {
      "text/plain": [
       "array([[-1.5, -2.5,  1. ],\n",
       "       [-1. , -1. ,  1. ],\n",
       "       [ 1.5,  1.5, -1. ]])"
      ]
     },
     "execution_count": 28,
     "metadata": {},
     "output_type": "execute_result"
    }
   ],
   "source": [
    "#La operación de inversa de una matriz se calcula como sigue\n",
    "np.linalg.inv(matriz1)"
   ]
  },
  {
   "cell_type": "code",
   "execution_count": 29,
   "id": "36407dbd",
   "metadata": {},
   "outputs": [
    {
     "data": {
      "text/plain": [
       "array([[ 1,  2,  3,  4],\n",
       "       [ 2,  4,  6,  8],\n",
       "       [ 3,  6,  9, 12],\n",
       "       [ 4,  8, 12, 16]])"
      ]
     },
     "execution_count": 29,
     "metadata": {},
     "output_type": "execute_result"
    }
   ],
   "source": [
    "np.dot(vector2,[vector1])"
   ]
  },
  {
   "cell_type": "code",
   "execution_count": 30,
   "id": "3c94376e",
   "metadata": {},
   "outputs": [
    {
     "data": {
      "text/plain": [
       "array([30])"
      ]
     },
     "execution_count": 30,
     "metadata": {},
     "output_type": "execute_result"
    }
   ],
   "source": [
    "np.inner(vector1,np.transpose(vector2))"
   ]
  },
  {
   "cell_type": "code",
   "execution_count": 31,
   "id": "9a2be3dc",
   "metadata": {},
   "outputs": [
    {
     "data": {
      "text/plain": [
       "array([30])"
      ]
     },
     "execution_count": 31,
     "metadata": {},
     "output_type": "execute_result"
    }
   ],
   "source": [
    "np.dot(vector1,vector2)"
   ]
  },
  {
   "cell_type": "code",
   "execution_count": 32,
   "id": "e0a275d3",
   "metadata": {},
   "outputs": [
    {
     "data": {
      "text/plain": [
       "array([[ 1,  2,  3,  4],\n",
       "       [ 2,  4,  6,  8],\n",
       "       [ 3,  6,  9, 12],\n",
       "       [ 4,  8, 12, 16]])"
      ]
     },
     "execution_count": 32,
     "metadata": {},
     "output_type": "execute_result"
    }
   ],
   "source": [
    "# Puede realizarse multiplicación matricial usando el símbolo @\n",
    "vector2 @ [vector1]"
   ]
  },
  {
   "cell_type": "markdown",
   "id": "7ad4d751",
   "metadata": {},
   "source": [
    "## Cambiar arreglos de forma"
   ]
  },
  {
   "cell_type": "code",
   "execution_count": 33,
   "id": "54733090",
   "metadata": {},
   "outputs": [
    {
     "data": {
      "text/plain": [
       "array([[1, 2],\n",
       "       [3, 4]])"
      ]
     },
     "execution_count": 33,
     "metadata": {},
     "output_type": "execute_result"
    }
   ],
   "source": [
    "#Definamos un arreglo simple, por ejemplo\n",
    "data=np.array([[1,2],[3,4]])\n",
    "data"
   ]
  },
  {
   "cell_type": "code",
   "execution_count": 34,
   "id": "614af28b",
   "metadata": {},
   "outputs": [
    {
     "data": {
      "text/plain": [
       "array([[1, 2, 3, 4]])"
      ]
     },
     "execution_count": 34,
     "metadata": {},
     "output_type": "execute_result"
    }
   ],
   "source": [
    "#Observemos que podemos convertirlo en un vector de 1 fila y 4 columnas\n",
    "np.reshape(data,(1,4))"
   ]
  },
  {
   "cell_type": "code",
   "execution_count": 35,
   "id": "4d59f5fc",
   "metadata": {},
   "outputs": [
    {
     "data": {
      "text/plain": [
       "(1, 4)"
      ]
     },
     "execution_count": 35,
     "metadata": {},
     "output_type": "execute_result"
    }
   ],
   "source": [
    "np.reshape(data,(1,4)).shape"
   ]
  },
  {
   "cell_type": "code",
   "execution_count": 36,
   "id": "a891fe3d",
   "metadata": {},
   "outputs": [
    {
     "data": {
      "text/plain": [
       "array([1, 2, 3, 4])"
      ]
     },
     "execution_count": 36,
     "metadata": {},
     "output_type": "execute_result"
    }
   ],
   "source": [
    "#tambien podemos convertirlo en un vector fila (que es esencialmente el mismo vector, pero en otra configuración)\n",
    "np.reshape(data,(4))"
   ]
  },
  {
   "cell_type": "code",
   "execution_count": 37,
   "id": "13b6586a",
   "metadata": {},
   "outputs": [
    {
     "data": {
      "text/plain": [
       "(4,)"
      ]
     },
     "execution_count": 37,
     "metadata": {},
     "output_type": "execute_result"
    }
   ],
   "source": [
    "np.reshape(data,(4)).shape\n"
   ]
  },
  {
   "cell_type": "code",
   "execution_count": 38,
   "id": "cd8f1b1b",
   "metadata": {},
   "outputs": [
    {
     "data": {
      "text/plain": [
       "array([[1],\n",
       "       [2],\n",
       "       [3],\n",
       "       [4]])"
      ]
     },
     "execution_count": 38,
     "metadata": {},
     "output_type": "execute_result"
    }
   ],
   "source": [
    "#y si queremos un vector columna,\n",
    "np.reshape(data,(4,1))"
   ]
  },
  {
   "cell_type": "code",
   "execution_count": 39,
   "id": "970c66c7",
   "metadata": {},
   "outputs": [
    {
     "data": {
      "text/plain": [
       "(4, 1)"
      ]
     },
     "execution_count": 39,
     "metadata": {},
     "output_type": "execute_result"
    }
   ],
   "source": [
    "np.reshape(data,(4,1)).shape"
   ]
  },
  {
   "cell_type": "code",
   "execution_count": null,
   "id": "2d2f393a",
   "metadata": {},
   "outputs": [],
   "source": []
  }
 ],
 "metadata": {
  "kernelspec": {
   "display_name": "Python 3",
   "language": "python",
   "name": "python3"
  },
  "language_info": {
   "codemirror_mode": {
    "name": "ipython",
    "version": 3
   },
   "file_extension": ".py",
   "mimetype": "text/x-python",
   "name": "python",
   "nbconvert_exporter": "python",
   "pygments_lexer": "ipython3",
   "version": "3.9.5"
  },
  "vscode": {
   "interpreter": {
    "hash": "9ada32eea83c06c6418fd9dacb5580edb909b082032d188eabcfd6a2b68a7cd7"
   }
  }
 },
 "nbformat": 4,
 "nbformat_minor": 5
}
